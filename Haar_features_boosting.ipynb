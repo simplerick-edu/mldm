{
 "cells": [
  {
   "cell_type": "markdown",
   "metadata": {},
   "source": [
    "# Boosting with Haar filters on Mnist"
   ]
  },
  {
   "cell_type": "markdown",
   "metadata": {},
   "source": [
    "https://www.cs.cmu.edu/~efros/courses/LBMV07/Papers/viola-cvpr-01.pdf"
   ]
  },
  {
   "cell_type": "code",
   "execution_count": 1,
   "metadata": {},
   "outputs": [],
   "source": [
    "import mnist\n",
    "import numpy as np\n",
    "from numpy.random import choice,normal,uniform"
   ]
  },
  {
   "cell_type": "code",
   "execution_count": 2,
   "metadata": {},
   "outputs": [],
   "source": [
    "X_train, y_train = mnist.load_mnist(dataset=\"training\", path=\"mnist/\" ,return_labels=True, return_indices=False)\n",
    "X_test, y_test = mnist.load_mnist(dataset=\"testing\", path=\"mnist/\" ,return_labels=True, return_indices=False)"
   ]
  },
  {
   "cell_type": "code",
   "execution_count": 3,
   "metadata": {},
   "outputs": [
    {
     "name": "stdout",
     "output_type": "stream",
     "text": [
      "(60000, 28, 28)\n",
      "(60000,)\n",
      "(10000, 28, 28)\n",
      "(10000,)\n"
     ]
    }
   ],
   "source": [
    "print(X_train.shape)\n",
    "print(y_train.shape)\n",
    "print(X_test.shape)\n",
    "print(y_test.shape)"
   ]
  },
  {
   "cell_type": "markdown",
   "metadata": {},
   "source": [
    "### Task: discriminating odd numbers vs. even ones\n",
    "#### Form classes"
   ]
  },
  {
   "cell_type": "code",
   "execution_count": 4,
   "metadata": {},
   "outputs": [],
   "source": [
    "y_train = np.array([1 if y in [1, 3, 5, 7, 9] else 0 for y in y_train])\n",
    "y_test = np.array([1 if y in [1, 3, 5, 7, 9] else 0 for y in y_test])"
   ]
  },
  {
   "cell_type": "code",
   "execution_count": 5,
   "metadata": {},
   "outputs": [
    {
     "name": "stdout",
     "output_type": "stream",
     "text": [
      "29492\n",
      "30508\n"
     ]
    }
   ],
   "source": [
    "P = np.count_nonzero(y_train)\n",
    "N = len(y_train)-P\n",
    "print(N)\n",
    "print(P)"
   ]
  },
  {
   "cell_type": "markdown",
   "metadata": {},
   "source": [
    "### Integral images"
   ]
  },
  {
   "cell_type": "code",
   "execution_count": 6,
   "metadata": {},
   "outputs": [],
   "source": [
    "X_train_int = np.cumsum(np.cumsum(X_train, axis=1),axis=2)\n",
    "X_test_int = np.cumsum(np.cumsum(X_test, axis=1),axis=2)"
   ]
  },
  {
   "cell_type": "markdown",
   "metadata": {},
   "source": [
    "### Functions and classes"
   ]
  },
  {
   "cell_type": "markdown",
   "metadata": {},
   "source": [
    "#### 1-rectangle Haar feature"
   ]
  },
  {
   "cell_type": "code",
   "execution_count": 7,
   "metadata": {},
   "outputs": [],
   "source": [
    "class Haar_clf():\n",
    "    def __init__(self,x0, x1, y0, y1, t=-1):\n",
    "        self.x0 = x0\n",
    "        self.x1 = x1\n",
    "        self.y0 = y0\n",
    "        self.y1 = y1\n",
    "        self.t = t\n",
    "        \n",
    "    def integral_haar_conv(self,ii):\n",
    "        return ii[:,self.x0, self.y0] + ii[:,self.x1, self.y1] - ii[:,self.x0, self.y1] - ii[:,self.x1, self.y0]\n",
    "    \n",
    "    # finds optimal threshold and return error\n",
    "    def train(self,X_train_int,y_train,w):\n",
    "        h = self.integral_haar_conv(X_train_int)\n",
    "        y = y_train.copy()\n",
    "        y[np.where(y_train==0)] = -1\n",
    "        order = np.argsort(h)\n",
    "        error = np.sum(w*(y_train==0))\n",
    "        errors = np.cumsum(y[order]*w[order])+error\n",
    "        index_min = np.argmin(errors)\n",
    "        min_error = errors[index_min]\n",
    "        self.t = h[order[index_min]]\n",
    "        o = w*(self.pred(X_train_int) != y_train)\n",
    "        actual_error = np.count_nonzero(o)/len(o)\n",
    "        return actual_error\n",
    "\n",
    "    def pred(self,X):  #X - integral images\n",
    "        return self.integral_haar_conv(X)>self.t"
   ]
  },
  {
   "cell_type": "markdown",
   "metadata": {},
   "source": [
    "#### Random search"
   ]
  },
  {
   "cell_type": "code",
   "execution_count": 8,
   "metadata": {},
   "outputs": [],
   "source": [
    "def slight_shift(x,y,radius):\n",
    "    x_new = choice(np.arange(max(0,x-radius),min(27,x+radius)))\n",
    "    y_new = choice(np.arange(max(0,y-radius),min(27,y+radius)))\n",
    "    return x_new,y_new\n",
    "\n",
    "\n",
    "def random_search_haar(i_images,y,w,num_iter, radius):\n",
    "    x0,x1,y0,y1 = choice(27,4)\n",
    "    haar_clf = Haar_clf(x0,x1,y0,y1)\n",
    "    error = haar_clf.train(i_images,y,w)\n",
    "    for _ in range(num_iter):\n",
    "        x0_new,x1_new = slight_shift(haar_clf.x0,haar_clf.x1,radius)\n",
    "        y0_new,y1_new = slight_shift(haar_clf.y0,haar_clf.y1,radius)\n",
    "        haar_clf_new = Haar_clf(x0_new,x1_new,y0_new,y1_new)\n",
    "        error_new = haar_clf_new.train(i_images,y,w)\n",
    "        if error_new < error:\n",
    "            haar_clf = haar_clf_new\n",
    "            error = error_new\n",
    "    return error, haar_clf"
   ]
  },
  {
   "cell_type": "markdown",
   "metadata": {},
   "source": [
    "####  Simulated annealing"
   ]
  },
  {
   "cell_type": "code",
   "execution_count": 9,
   "metadata": {},
   "outputs": [],
   "source": [
    "def simulated_annealing_haar(i_images,y,w,num_iter,radius=5,Tmax=1,cooling='exp',a=0.9):\n",
    "    T = Tmax\n",
    "    x0,x1,y0,y1 = choice(27,4)\n",
    "    haar_clf = Haar_clf(x0,x1,y0,y1)\n",
    "    E = haar_clf.train(i_images,y,w)\n",
    "    for k in range(num_iter):\n",
    "        x0_new,x1_new,y0_new,y1_new = [x0,x1,y0,y1] + (normal(loc=0.0, scale=radius*np.sqrt(T), size=4))\n",
    "        x0_new,x1_new,y0_new,y1_new = np.clip([x0_new,x1_new,y0_new,y1_new], 0, 27)\n",
    "        x0_new,x1_new,y0_new,y1_new = int(x0_new),int(x1_new),int(y0_new),int(y1_new)\n",
    "        haar_clf_new = Haar_clf(x0_new,x1_new,y0_new,y1_new)\n",
    "        E_new = haar_clf_new.train(i_images,y,w)\n",
    "        #updating\n",
    "        if E_new < E or np.exp((E-E_new)/T)>uniform():\n",
    "#             print(str(E)+ \"  \" + str(E_new) + \"  \" + str(T) +\" \"+ str(np.exp((E-E_new)/T)))\n",
    "            haar_clf = haar_clf_new\n",
    "            E = E_new\n",
    "            x0,x1,y0,y1 = x0_new,x1_new,y0_new,y1_new\n",
    "        #cooling\n",
    "        if cooling == 'cauchy':\n",
    "            T = Tmax/(1+k)\n",
    "        elif cooling == 'log':\n",
    "            T = Tmax/np.log(1+k)\n",
    "        elif cooling == 'exp':\n",
    "            T = a*T\n",
    "        else:\n",
    "            raise Exception(\"Error. Cooling must be one of: 'cauchy', 'log', 'exp'.\")\n",
    "    return E, haar_clf"
   ]
  },
  {
   "cell_type": "markdown",
   "metadata": {},
   "source": [
    "#### Plotting"
   ]
  },
  {
   "cell_type": "code",
   "execution_count": 10,
   "metadata": {},
   "outputs": [],
   "source": [
    "from IPython.display import clear_output\n",
    "import matplotlib.pyplot as plt\n",
    "%matplotlib inline\n",
    "def plot_loss(history):\n",
    "    clear_output(True)\n",
    "    plt.plot(history,label='loss')\n",
    "    plt.legend()\n",
    "    plt.show()"
   ]
  },
  {
   "cell_type": "markdown",
   "metadata": {},
   "source": [
    "#### Strong classifier"
   ]
  },
  {
   "cell_type": "code",
   "execution_count": 43,
   "metadata": {},
   "outputs": [],
   "source": [
    "class Strong_clf:\n",
    "    def __init__(self,weak_clfs={}):\n",
    "        self.weak_clfs = weak_clfs #dict {weak_clf:alpha}\n",
    "        self.num_features = len(weak_clfs)\n",
    "        \n",
    "    def add(self,weak_clf,alpha):\n",
    "        self.weak_clfs[weak_clf] = alpha\n",
    "        \n",
    "    \n",
    "    def pred(self,X):\n",
    "        return (np.sum(np.array([alpha*(weak_clf.pred(X)-0.5) for weak_clf,alpha in self.weak_clfs.items()]),axis=0) >= 0)\n",
    "    \n",
    "    \n",
    "    def pred_nonlinear(self,X):\n",
    "        return (np.sum(np.array([alpha*(weak_clf.prob(X)) for weak_clf,alpha in self.weak_clfs.items()]),axis=0) >= 0)\n",
    "        \n",
    "          \n",
    "    def prob(self,X):\n",
    "        return np.tanh(np.sum(np.array([alpha*(weak_clf.pred(X)-0.5) for weak_clf,alpha in self.weak_clfs.items()]),axis=0))\n",
    "          \n",
    "    \n",
    "    def adaboost_with_random_search(self,X_train_int,y_train,num_features,num_iter,radius,plot=True,w=[]):\n",
    "        self.weak_clfs = {}\n",
    "        self.num_features = num_features\n",
    "        P = np.count_nonzero(y_train)\n",
    "        N = len(y_train)-P\n",
    "        #initialize weights\n",
    "        if len(w) == 0:\n",
    "            w = (y_train == 0)/(2*N) + (y_train == 1)/(2*P)\n",
    "        i,history = 0, []\n",
    "        while i < num_features:\n",
    "            error, haar_clf = random_search_haar(X_train_int,y_train,w,num_iter,radius)\n",
    "            if error > 0.5:\n",
    "                continue\n",
    "            else:\n",
    "                i += 1\n",
    "            e = (y_train != haar_clf.pred(X_train_int))\n",
    "            b = error/(1-error)\n",
    "#             print(\"haar classifier error: \" + str(error))\n",
    "            e[np.where(e==0)] = b\n",
    "            w = w*e\n",
    "            w = w/np.sum(w)\n",
    "            self.add(haar_clf,-np.log(b))\n",
    "            if plot:\n",
    "                mis = (y_train != self.pred(X_train_int))\n",
    "                history.append(np.count_nonzero(mis)/len(mis))\n",
    "                plot_loss(history)\n",
    "    \n",
    "            \n",
    "    def adaboost_with_simulated_annealing(self,X_train_int,y_train,num_features,num_iter,radius,Tmax,cooling='exp',a=0.9,plot=True,w=[]):\n",
    "        self.weak_clfs = {}\n",
    "        self.num_features = num_features\n",
    "        P = np.count_nonzero(y_train)\n",
    "        N = len(y_train)-P\n",
    "        #initialize weights\n",
    "        if len(w) == 0:\n",
    "            w = (y_train == 0)/(2*N) + (y_train == 1)/(2*P)\n",
    "        i, history = 0, []\n",
    "        while i < num_features:\n",
    "            error, haar_clf = simulated_annealing_haar(X_train_int,y_train,w,num_iter,radius,Tmax,cooling,a)\n",
    "            if error > 0.5:\n",
    "                continue\n",
    "            else:\n",
    "                i += 1\n",
    "            e = (y_train != haar_clf.pred(X_train_int))\n",
    "            b = error/(1-error)\n",
    "#            print(\"haar classifier error: \" + str(error))\n",
    "            e[np.where(e==0)] = b\n",
    "            w = w*e\n",
    "            w = w/np.sum(w)\n",
    "            self.add(haar_clf,-np.log(b))\n",
    "            if plot:\n",
    "                mis = (y_train != self.pred(X_train_int))\n",
    "                history.append(np.count_nonzero(mis)/len(mis))\n",
    "                plot_loss(history)\n",
    "                \n",
    "                \n",
    "    def adaboost_in_adaboost(self,X_train_int,y_train,num_features,num_inner_features,num_iter,radius,plot=True,w=[]):\n",
    "        self.weak_clfs = {}\n",
    "        self.num_features = num_features\n",
    "        P = np.count_nonzero(y_train)\n",
    "        N = len(y_train)-P\n",
    "        #initialize weights\n",
    "        if len(w) == 0:\n",
    "            w = (y_train == 0)/(2*N) + (y_train == 1)/(2*P)\n",
    "        i,history = 0, []\n",
    "        while i < num_features:\n",
    "            ada_clf = Strong_clf()\n",
    "            ada_clf.adaboost_with_random_search(X_train_int=X_train_int,y_train=y_train,num_features=num_inner_features,num_iter=num_iter,radius=radius,plot=False,w=w)\n",
    "            e = (y_train != self.pred_nonlinear(X_train_int))\n",
    "            error = np.count_nonzero(e)/len(e)\n",
    "            if error > 0.5:\n",
    "                continue\n",
    "            else:\n",
    "                i += 1\n",
    "            b = error/(1-error)\n",
    "#             print(\"adaboost classifier error: \" + str(error))\n",
    "            e[np.where(e==0)] = b\n",
    "            w = w*e\n",
    "            w = w/np.sum(w)\n",
    "            self.add(ada_clf,-np.log(b))\n",
    "            if plot:\n",
    "                mis = (y_train != self.pred_nonlinear(X_train_int))\n",
    "                history.append(np.count_nonzero(mis)/len(mis))\n",
    "                plot_loss(history)\n",
    "        "
   ]
  },
  {
   "cell_type": "markdown",
   "metadata": {},
   "source": [
    "```\n",
    "\n",
    "```\n",
    "\n",
    "```\n",
    "\n",
    "```\n",
    "\n",
    "```\n",
    "\n",
    "```\n",
    "### Train with random search"
   ]
  },
  {
   "cell_type": "code",
   "execution_count": 30,
   "metadata": {},
   "outputs": [
    {
     "data": {
      "image/png": "[encoded data removed]",
      "text/plain": [
       "<Figure size 432x288 with 1 Axes>"
      ]
     },
     "metadata": {
      "needs_background": "light"
     },
     "output_type": "display_data"
    }
   ],
   "source": [
    "clf = Strong_clf()\n",
    "clf.adaboost_with_random_search(X_train_int,y_train,128,30,3)"
   ]
  },
  {
   "cell_type": "code",
   "execution_count": 31,
   "metadata": {},
   "outputs": [
    {
     "name": "stdout",
     "output_type": "stream",
     "text": [
      "Train accuracy: 0.8126666666666666\n"
     ]
    }
   ],
   "source": [
    "p = (clf.pred(X_train_int) == y_train)\n",
    "print(\"Train accuracy: \" + str(np.count_nonzero(p)/len(p)))"
   ]
  },
  {
   "cell_type": "code",
   "execution_count": 32,
   "metadata": {},
   "outputs": [
    {
     "name": "stdout",
     "output_type": "stream",
     "text": [
      "Test accuracy: 0.8106\n"
     ]
    }
   ],
   "source": [
    "p = (clf.pred(X_test_int) == y_test)\n",
    "print(\"Test accuracy: \" + str(np.count_nonzero(p)/len(p)))"
   ]
  },
  {
   "cell_type": "markdown",
   "metadata": {},
   "source": [
    "### Train with simulated annealing"
   ]
  },
  {
   "cell_type": "code",
   "execution_count": 129,
   "metadata": {},
   "outputs": [
    {
     "data": {
      "image/png": "[encoded data removed]",
      "text/plain": [
       "<Figure size 432x288 with 1 Axes>"
      ]
     },
     "metadata": {
      "needs_background": "light"
     },
     "output_type": "display_data"
    }
   ],
   "source": [
    "clf = Strong_clf()\n",
    "clf.adaboost_with_simulated_annealing(X_train_int,y_train,128,40,radius=10,Tmax=1,cooling='exp',a=0.8,plot=True)"
   ]
  },
  {
   "cell_type": "code",
   "execution_count": 130,
   "metadata": {},
   "outputs": [
    {
     "name": "stdout",
     "output_type": "stream",
     "text": [
      "Train accuracy: 0.7917333333333333\n"
     ]
    }
   ],
   "source": [
    "p = (clf.pred(X_train_int) == y_train)\n",
    "print(\"Train accuracy: \" + str(np.count_nonzero(p)/len(p)))"
   ]
  },
  {
   "cell_type": "code",
   "execution_count": 131,
   "metadata": {},
   "outputs": [
    {
     "name": "stdout",
     "output_type": "stream",
     "text": [
      "Test accuracy: 0.791\n"
     ]
    }
   ],
   "source": [
    "p = (clf.pred(X_test_int) == y_test)\n",
    "print(\"Test accuracy: \" + str(np.count_nonzero(p)/len(p)))"
   ]
  },
  {
   "cell_type": "markdown",
   "metadata": {},
   "source": [
    "### Boosting in boosting"
   ]
  },
  {
   "cell_type": "code",
   "execution_count": 44,
   "metadata": {},
   "outputs": [
    {
     "data": {
      "image/png": "[encoded data removed]",
      "text/plain": [
       "<Figure size 432x288 with 1 Axes>"
      ]
     },
     "metadata": {
      "needs_background": "light"
     },
     "output_type": "display_data"
    }
   ],
   "source": [
    "clf = Strong_clf()\n",
    "clf.adaboost_in_adaboost(X_train_int,y_train,128,8,30,3,plot=True)"
   ]
  },
  {
   "cell_type": "code",
   "execution_count": 47,
   "metadata": {},
   "outputs": [
    {
     "name": "stdout",
     "output_type": "stream",
     "text": [
      "Train accuracy: 0.8191333333333334\n"
     ]
    }
   ],
   "source": [
    "p = (clf.pred_nonlinear(X_train_int) == y_train)\n",
    "print(\"Train accuracy: \" + str(np.count_nonzero(p)/len(p)))"
   ]
  },
  {
   "cell_type": "code",
   "execution_count": 49,
   "metadata": {},
   "outputs": [
    {
     "name": "stdout",
     "output_type": "stream",
     "text": [
      "Test accuracy: 0.8138\n"
     ]
    }
   ],
   "source": [
    "p = (clf.pred_nonlinear(X_test_int) == y_test)\n",
    "print(\"Test accuracy: \" + str(np.count_nonzero(p)/len(p)))"
   ]
  }
 ],
 "metadata": {
  "kernelspec": {
   "display_name": "Python 3",
   "language": "python",
   "name": "python3"
  },
  "language_info": {
   "codemirror_mode": {
    "name": "ipython",
    "version": 3
   },
   "file_extension": ".py",
   "mimetype": "text/x-python",
   "name": "python",
   "nbconvert_exporter": "python",
   "pygments_lexer": "ipython3",
   "version": "3.7.0"
  }
 },
 "nbformat": 4,
 "nbformat_minor": 2
}
