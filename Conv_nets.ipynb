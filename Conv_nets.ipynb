{
 "cells": [
  {
   "cell_type": "code",
   "execution_count": 0,
   "metadata": {
    "colab": {},
    "colab_type": "code",
    "id": "fGEBtaissMDb"
   },
   "outputs": [],
   "source": [
    "import torch\n",
    "import torch.nn as nn\n",
    "import torch.nn.functional as F\n",
    "import torchvision\n",
    "import torchvision.transforms as transforms"
   ]
  },
  {
   "cell_type": "code",
   "execution_count": 0,
   "metadata": {
    "colab": {},
    "colab_type": "code",
    "id": "OOfZUZoVsMDm"
   },
   "outputs": [],
   "source": [
    "import matplotlib.pyplot as plt\n",
    "from IPython.display import clear_output\n",
    "import numpy as np\n",
    "plt.rcParams['figure.figsize'] = [8,6]\n",
    "plt.rcParams['axes.grid'] = False"
   ]
  },
  {
   "cell_type": "markdown",
   "metadata": {
    "colab_type": "text",
    "id": "ILmHt6N4lzVU"
   },
   "source": [
    "#### CIFAR10"
   ]
  },
  {
   "cell_type": "code",
   "execution_count": 4,
   "metadata": {
    "colab": {
     "base_uri": "https://localhost:8080/",
     "height": 51
    },
    "colab_type": "code",
    "id": "uq31SfKUsMDr",
    "outputId": "475bae6f-2a9a-45a4-896a-78f508cb3ab2"
   },
   "outputs": [
    {
     "name": "stdout",
     "output_type": "stream",
     "text": [
      "Downloading https://www.cs.toronto.edu/~kriz/cifar-10-python.tar.gz to ./data/cifar-10-python.tar.gz\n",
      "Files already downloaded and verified\n"
     ]
    }
   ],
   "source": [
    "data_transforms = transforms.ToTensor()\n",
    "\n",
    "trainset = torchvision.datasets.CIFAR10(root='./data', train=True, download=True,transform=data_transforms)\n",
    "\n",
    "testset = torchvision.datasets.CIFAR10(root='./data', train=False, download=True,transform=data_transforms)"
   ]
  },
  {
   "cell_type": "markdown",
   "metadata": {
    "colab_type": "text",
    "id": "wSZs3fjOsMD1"
   },
   "source": [
    "### Baseline"
   ]
  },
  {
   "cell_type": "markdown",
   "metadata": {
    "colab_type": "text",
    "id": "MLfuyigblqhD"
   },
   "source": [
    "conv3x3(n) -> conv3x3(n) -> max_pool -> conv3x3(1.5 n) -> conv3x3(1.5 n) -> max_pool -> conv3x3(2 n) ->  conv3x3(2 n)  -> global_pool (or just flatten)-> dense(10, nonlinearity = softmax)"
   ]
  },
  {
   "cell_type": "code",
   "execution_count": 0,
   "metadata": {
    "colab": {},
    "colab_type": "code",
    "id": "Zauoh0IVsMD4"
   },
   "outputs": [],
   "source": [
    "# Glorot (Xavier) initialization\n",
    "def init_weights(m):\n",
    "    if isinstance(m, (nn.Conv2d,nn.Linear)):\n",
    "        nn.init.xavier_uniform_(m.weight)"
   ]
  },
  {
   "cell_type": "code",
   "execution_count": 0,
   "metadata": {
    "colab": {},
    "colab_type": "code",
    "id": "qmHaNN3ysMD8"
   },
   "outputs": [],
   "source": [
    "class Network(nn.Module):\n",
    "    def __init__(self, n):\n",
    "        super(Network, self).__init__()\n",
    "        self.conv1 = nn.Conv2d(3, n, 3)\n",
    "        self.conv2 = nn.Conv2d(n, n, 3)\n",
    "        self.pool1 = nn.MaxPool2d(2, 2)\n",
    "        self.conv3 = nn.Conv2d(n, int(1.5*n), 3)\n",
    "        self.conv4 = nn.Conv2d(int(1.5*n), int(1.5*n), 3)\n",
    "        self.pool2 = nn.MaxPool2d(2, 2)\n",
    "        self.conv5 = nn.Conv2d(int(1.5*n), 2*n, 3)\n",
    "        self.conv6 = nn.Conv2d(2*n, 2*n, 3)\n",
    "        self.dense = nn.Linear(2*n, 10)\n",
    "        self.nonlinearity = nn.LeakyReLU(negative_slope=0.01)\n",
    "        self.apply(init_weights)\n",
    "\n",
    "    def forward(self, x):\n",
    "        x = self.nonlinearity(self.conv1(x))\n",
    "        x = self.nonlinearity(self.conv2(x))\n",
    "        x = self.pool1(x)\n",
    "        x = self.nonlinearity(self.conv3(x))\n",
    "        x = self.nonlinearity(self.conv4(x))\n",
    "        x = self.pool2(x)\n",
    "        x = self.nonlinearity(self.conv5(x))\n",
    "        x = self.nonlinearity(self.conv6(x))\n",
    "        # global pooling\n",
    "        x = x.view(x.shape[0], x.shape[1], -1).mean(-1) # in this case H,W = 1, so it just reduces dims\n",
    "        x = self.dense(x) #logits\n",
    "        return x"
   ]
  },
  {
   "cell_type": "code",
   "execution_count": 0,
   "metadata": {
    "colab": {},
    "colab_type": "code",
    "id": "4NfIL8qbsMED"
   },
   "outputs": [],
   "source": [
    "def plot(hist):\n",
    "    clear_output(True)\n",
    "    h = np.array(hist)\n",
    "    plt.plot(h[:,0], h[:,1],label='loss')\n",
    "    plt.legend()\n",
    "    plt.show()"
   ]
  },
  {
   "cell_type": "code",
   "execution_count": 0,
   "metadata": {
    "colab": {},
    "colab_type": "code",
    "id": "hUArlFlNsMEJ"
   },
   "outputs": [],
   "source": [
    "def train(model,opt,criterion,n_epochs, batch_size,trainset):\n",
    "    model.train()\n",
    "    trainloader = torch.utils.data.DataLoader(trainset, batch_size=batch_size,\n",
    "                                          shuffle=True, num_workers=2)\n",
    "    hist = []\n",
    "    best_state = model.state_dict()\n",
    "    best_loss = 999999\n",
    "    for epoch in range(n_epochs):\n",
    "        total_loss = 0.0\n",
    "        correct = 0.0\n",
    "        for i, data in enumerate(trainloader, 0):\n",
    "            model.zero_grad()\n",
    "            inputs, labels = data[0].to(model.device), data[1].to(device)\n",
    "            logits = net(inputs)\n",
    "            loss = criterion(logits,labels)\n",
    "            loss.backward()\n",
    "            opt.step()\n",
    "            total_loss += loss.data.cpu().numpy()\n",
    "            _, predicted = torch.max(logits.data, 1)\n",
    "            correct += (predicted == labels).sum().data.cpu().numpy()\n",
    "            if i % 30 == 29:    # print every 30 mini-batches\n",
    "                total_loss /= 30\n",
    "                hist.append([epoch + i/len(trainloader), total_loss ])\n",
    "                plot(hist)\n",
    "                print(\"Loss: \" + str(total_loss))\n",
    "                print(\"Accuracy: \" + str(correct/30/batch_size))\n",
    "                if total_loss < best_loss:\n",
    "                    best_state = model.state_dict()\n",
    "                total_loss = 0.0\n",
    "                correct = 0.0\n",
    "    model.load_state_dict(best_state)\n",
    "    return model"
   ]
  },
  {
   "cell_type": "code",
   "execution_count": 0,
   "metadata": {
    "colab": {},
    "colab_type": "code",
    "id": "PEH6N_WksMEO"
   },
   "outputs": [],
   "source": [
    "def test(model,batch_size,testset):\n",
    "    model.eval()\n",
    "    testloader = torch.utils.data.DataLoader(testset, batch_size=batch_size,\n",
    "                                          shuffle=True, num_workers=2)\n",
    "    correct = 0.0\n",
    "    for data in testloader:\n",
    "        inputs, labels = data[0].to(model.device), data[1].to(device)\n",
    "        logits = net(inputs).detach()\n",
    "        _, predicted = torch.max(logits.data, 1)\n",
    "        correct += (predicted == labels).sum().cpu().numpy()\n",
    "    print(\"Accuracy on the test set: \" + str(correct/len(testset)))"
   ]
  },
  {
   "cell_type": "code",
   "execution_count": 0,
   "metadata": {
    "colab": {},
    "colab_type": "code",
    "id": "WV-M2whmsMEY"
   },
   "outputs": [],
   "source": [
    "n = 20\n",
    "device = torch.device(\"cuda\")"
   ]
  },
  {
   "cell_type": "code",
   "execution_count": 0,
   "metadata": {
    "colab": {},
    "colab_type": "code",
    "id": "ePUoThgbsMEf"
   },
   "outputs": [],
   "source": [
    "net = Network(n)\n",
    "net.device = device\n",
    "net.to(net.device)\n",
    "opt = torch.optim.Adam(net.parameters(), lr=0.001, betas=(0.9, 0.999))\n",
    "criterion = nn.CrossEntropyLoss()"
   ]
  },
  {
   "cell_type": "code",
   "execution_count": 0,
   "metadata": {
    "colab": {
     "base_uri": "https://localhost:8080/",
     "height": 51
    },
    "colab_type": "code",
    "id": "fsBNL_yDsMEo",
    "outputId": "9f460248-bc2b-4671-a9d8-085ef8ad55ab"
   },
   "outputs": [
    {
     "name": "stdout",
     "output_type": "stream",
     "text": [
      "43430\n",
      "50000\n"
     ]
    }
   ],
   "source": [
    "pytorch_total_params = sum(p.numel() for p in net.parameters() if p.requires_grad)\n",
    "print(pytorch_total_params)\n",
    "print(len(trainset))"
   ]
  },
  {
   "cell_type": "code",
   "execution_count": 0,
   "metadata": {
    "colab": {
     "base_uri": "https://localhost:8080/",
     "height": 408
    },
    "colab_type": "code",
    "id": "zlE1nMyBsMEu",
    "outputId": "ba9c37e6-e21e-4b9c-b527-30e5a17a98d4"
   },
   "outputs": [
    {
     "data": {
      "image/png": "[encoded data removed]",
      "text/plain": [
       "<matplotlib.figure.Figure at 0x7f310bfe9d68>"
      ]
     },
     "metadata": {
      "tags": []
     },
     "output_type": "display_data"
    },
    {
     "name": "stdout",
     "output_type": "stream",
     "text": [
      "Loss: 0.4341768890619278\n",
      "Accuracy: 0.8440104166666667\n"
     ]
    }
   ],
   "source": [
    "net = train(net,opt,criterion,50,256,trainset)"
   ]
  },
  {
   "cell_type": "code",
   "execution_count": 0,
   "metadata": {
    "colab": {
     "base_uri": "https://localhost:8080/",
     "height": 34
    },
    "colab_type": "code",
    "id": "zJIkmavusMEz",
    "outputId": "a84c43b4-88a9-4d5c-ef13-67c7d80d8260"
   },
   "outputs": [
    {
     "name": "stdout",
     "output_type": "stream",
     "text": [
      "Accuracy on the test set: 0.7046\n"
     ]
    }
   ],
   "source": [
    "test(net,256,testset)"
   ]
  },
  {
   "cell_type": "markdown",
   "metadata": {
    "colab_type": "text",
    "id": "Gw14pr3cDlFR"
   },
   "source": [
    "### Sigmoid nonlinearity"
   ]
  },
  {
   "cell_type": "code",
   "execution_count": 0,
   "metadata": {
    "colab": {},
    "colab_type": "code",
    "id": "av_JBuHpFktn"
   },
   "outputs": [],
   "source": [
    "net.apply(init_weights)\n",
    "net.nonlinearity = nn.Sigmoid()"
   ]
  },
  {
   "cell_type": "code",
   "execution_count": 0,
   "metadata": {
    "colab": {
     "base_uri": "https://localhost:8080/",
     "height": 408
    },
    "colab_type": "code",
    "id": "6PH6jDMPsME_",
    "outputId": "4fcac76b-b0b1-4f2d-c619-d3184468fe21"
   },
   "outputs": [
    {
     "data": {
      "image/png": "[encoded data removed]",
      "text/plain": [
       "<matplotlib.figure.Figure at 0x7f310c39f2b0>"
      ]
     },
     "metadata": {
      "tags": []
     },
     "output_type": "display_data"
    },
    {
     "name": "stdout",
     "output_type": "stream",
     "text": [
      "Loss: 1.1711900353431701\n",
      "Accuracy: 0.5811197916666667\n"
     ]
    }
   ],
   "source": [
    "net = train(net,opt,criterion,50,256,trainset)"
   ]
  },
  {
   "cell_type": "code",
   "execution_count": 0,
   "metadata": {
    "colab": {
     "base_uri": "https://localhost:8080/",
     "height": 34
    },
    "colab_type": "code",
    "id": "qRhYvQOuBpoA",
    "outputId": "0aeb6b75-a4c1-45e9-bb0f-2963c4b9e9ca"
   },
   "outputs": [
    {
     "name": "stdout",
     "output_type": "stream",
     "text": [
      "Accuracy on the test set: 0.5588\n"
     ]
    }
   ],
   "source": [
    "test(net,256,testset)"
   ]
  },
  {
   "cell_type": "markdown",
   "metadata": {
    "colab_type": "text",
    "id": "NwatJbKYUf_c"
   },
   "source": [
    "Net with Sigmoid nonlinearity converges worse"
   ]
  },
  {
   "cell_type": "markdown",
   "metadata": {
    "colab_type": "text",
    "id": "y430q-ffGZID"
   },
   "source": [
    "### ELU nonlinearity"
   ]
  },
  {
   "cell_type": "code",
   "execution_count": 0,
   "metadata": {
    "colab": {},
    "colab_type": "code",
    "id": "Jo9qr6StsMFC"
   },
   "outputs": [],
   "source": [
    "net.apply(init_weights)\n",
    "net.nonlinearity = nn.ELU()"
   ]
  },
  {
   "cell_type": "code",
   "execution_count": 0,
   "metadata": {
    "colab": {
     "base_uri": "https://localhost:8080/",
     "height": 408
    },
    "colab_type": "code",
    "id": "2-0ssQYqsMFL",
    "outputId": "e94296eb-f6e3-4ec5-fe10-c4d1c41b02c2"
   },
   "outputs": [
    {
     "data": {
      "image/png": "[encoded data removed]",
      "text/plain": [
       "<matplotlib.figure.Figure at 0x7f310720b3c8>"
      ]
     },
     "metadata": {
      "tags": []
     },
     "output_type": "display_data"
    },
    {
     "name": "stdout",
     "output_type": "stream",
     "text": [
      "Loss: 0.232414277891318\n",
      "Accuracy: 0.9153645833333334\n"
     ]
    }
   ],
   "source": [
    "net = train(net,opt,criterion,50,256,trainset)"
   ]
  },
  {
   "cell_type": "code",
   "execution_count": 0,
   "metadata": {
    "colab": {
     "base_uri": "https://localhost:8080/",
     "height": 34
    },
    "colab_type": "code",
    "id": "KRXpxXuAI4ph",
    "outputId": "7a8d5eaf-12e7-4118-9fe1-8f2e20938d51"
   },
   "outputs": [
    {
     "name": "stdout",
     "output_type": "stream",
     "text": [
      "Accuracy on the test set: 0.6934\n"
     ]
    }
   ],
   "source": [
    "test(net,256,testset)"
   ]
  },
  {
   "cell_type": "markdown",
   "metadata": {
    "colab_type": "text",
    "id": "nEOfT3D9Ulet"
   },
   "source": [
    "Net with ELU nonlinearity converges even better than with LeakyReLU but it's heavily overfitted."
   ]
  },
  {
   "cell_type": "markdown",
   "metadata": {
    "colab_type": "text",
    "id": "wFCmYyNAsMFP"
   },
   "source": [
    "### BlockConv2D layer"
   ]
  },
  {
   "cell_type": "markdown",
   "metadata": {
    "colab_type": "text",
    "id": "Beurov6Ilc1E"
   },
   "source": [
    "Write your own BlockConv2D layer (http://lasagne.readthedocs.io/en/latest/user/custom_layers.html),\n",
    "by introducing a binary constant mask M (make sure it is not a learnable parameter) and replacing kernel W (https://github.com/Lasagne/Lasagne/blob/master/lasagne/layers/conv.py#L607) with M[:, :, None, None] * W,\n",
    "so that a single conv filter can use at most k incoming channels, e.g. 1-st filter can use only first 4 channels, 2nd only channels trough 2nd to 5th etc.\n",
    "In general, i-th filter can use incoming channels trough i % n to (i + k) % n, where n is the number of incoming channels."
   ]
  },
  {
   "cell_type": "code",
   "execution_count": 0,
   "metadata": {
    "colab": {},
    "colab_type": "code",
    "id": "bZEK8XgasMFR"
   },
   "outputs": [],
   "source": [
    "from torch.nn.parameter import Parameter\n",
    "from torch.nn.modules.utils import _pair\n",
    "\n",
    "class BlockConv2d(nn.modules.conv._ConvNd):\n",
    "    def __init__(self, in_channels, out_channels, kernel_size, stride=1,\n",
    "                 padding=0, dilation=1, groups=1, bias=True, k=4):\n",
    "        kernel_size = _pair(kernel_size)\n",
    "        stride = _pair(stride)\n",
    "        padding = _pair(padding)\n",
    "        dilation = _pair(dilation)\n",
    "        super(BlockConv2d, self).__init__(\n",
    "            in_channels, out_channels, kernel_size, stride, padding, dilation,\n",
    "            False, _pair(0), groups, bias)\n",
    "        self.mask = Parameter(self.get_mask(k), requires_grad=False)\n",
    "            \n",
    "            \n",
    "    def get_mask(self,k):\n",
    "        mask = torch.zeros(self.weight.shape,requires_grad=False)\n",
    "        for i in range(self.out_channels):\n",
    "            mask[i, [(j % self.in_channels) for j in range(i,i+k)] , :, :] = 1\n",
    "        return mask\n",
    "            \n",
    "        \n",
    "    def forward(self, input):\n",
    "        return F.conv2d(input, self.mask*self.weight, self.bias, self.stride,\n",
    "                        self.padding, self.dilation, self.groups)"
   ]
  },
  {
   "cell_type": "code",
   "execution_count": 0,
   "metadata": {
    "colab": {},
    "colab_type": "code",
    "id": "p5pvdtIUMpA4"
   },
   "outputs": [],
   "source": [
    "class Network_BlockConv(nn.Module):\n",
    "    def __init__(self, n):\n",
    "        super(Network_BlockConv, self).__init__()\n",
    "        self.conv1 = BlockConv2d(3, n, 3)\n",
    "        self.conv2 = BlockConv2d(n, n, 3)\n",
    "        self.pool1 = nn.MaxPool2d(2, 2)\n",
    "        self.conv3 = BlockConv2d(n, int(1.5*n), 3)\n",
    "        self.conv4 = BlockConv2d(int(1.5*n), int(1.5*n), 3)\n",
    "        self.pool2 = nn.MaxPool2d(2, 2)\n",
    "        self.conv5 = BlockConv2d(int(1.5*n), 2*n, 3)\n",
    "        self.conv6 = BlockConv2d(2*n, 2*n, 3)\n",
    "        self.dense = nn.Linear(2*n, 10)\n",
    "        self.nonlinearity = nn.LeakyReLU(negative_slope=0.01)\n",
    "        self.apply(init_weights)\n",
    "\n",
    "    def forward(self, x):\n",
    "        x = self.nonlinearity(self.conv1(x))\n",
    "        x = self.nonlinearity(self.conv2(x))\n",
    "        x = self.pool1(x)\n",
    "        x = self.nonlinearity(self.conv3(x))\n",
    "        x = self.nonlinearity(self.conv4(x))\n",
    "        x = self.pool2(x)\n",
    "        x = self.nonlinearity(self.conv5(x))\n",
    "        x = self.nonlinearity(self.conv6(x))\n",
    "        # global pooling\n",
    "        x = x.view(x.shape[0], x.shape[1], -1).mean(-1) # in this case H,W = 1, so it just reduces dims\n",
    "        x = self.dense(x) #logits\n",
    "        return x"
   ]
  },
  {
   "cell_type": "code",
   "execution_count": 0,
   "metadata": {
    "colab": {},
    "colab_type": "code",
    "id": "pP2-k1SKsMF2"
   },
   "outputs": [],
   "source": [
    "net = Network_BlockConv(n)\n",
    "net.device = device\n",
    "net.to(net.device)\n",
    "opt = torch.optim.Adam(net.parameters(), lr=0.001, betas=(0.9, 0.999))\n",
    "criterion = nn.CrossEntropyLoss()"
   ]
  },
  {
   "cell_type": "code",
   "execution_count": 0,
   "metadata": {
    "colab": {
     "base_uri": "https://localhost:8080/",
     "height": 408
    },
    "colab_type": "code",
    "id": "yz_ELF9hsMF_",
    "outputId": "f1ea53a3-2f77-4013-b774-2ffb9bf16092"
   },
   "outputs": [
    {
     "data": {
      "image/png": "[encoded data removed]",
      "text/plain": [
       "<matplotlib.figure.Figure at 0x7f310c0be3c8>"
      ]
     },
     "metadata": {
      "tags": []
     },
     "output_type": "display_data"
    },
    {
     "name": "stdout",
     "output_type": "stream",
     "text": [
      "Loss: 1.0259653866291045\n",
      "Accuracy: 0.6389322916666667\n"
     ]
    }
   ],
   "source": [
    "net = train(net,opt,criterion,50,256,trainset)"
   ]
  },
  {
   "cell_type": "code",
   "execution_count": 0,
   "metadata": {
    "colab": {
     "base_uri": "https://localhost:8080/",
     "height": 34
    },
    "colab_type": "code",
    "id": "jTZVTapnT87r",
    "outputId": "63639928-b5ce-48a7-df7c-b4854a315def"
   },
   "outputs": [
    {
     "name": "stdout",
     "output_type": "stream",
     "text": [
      "Accuracy on the test set: 0.639\n"
     ]
    }
   ],
   "source": [
    "test(net,256,testset)"
   ]
  },
  {
   "cell_type": "markdown",
   "metadata": {
    "colab_type": "text",
    "id": "mC9kSOsnVKUD"
   },
   "source": [
    "Net with BlockConvs converges worse than baseline but it hasn't overfitted."
   ]
  },
  {
   "cell_type": "markdown",
   "metadata": {
    "colab_type": "text",
    "id": "5eILGZaAMhfG"
   },
   "source": [
    "**Check mask**"
   ]
  },
  {
   "cell_type": "code",
   "execution_count": 0,
   "metadata": {
    "colab": {
     "base_uri": "https://localhost:8080/",
     "height": 2822
    },
    "colab_type": "code",
    "id": "uS-dEYMSWi6f",
    "outputId": "c19d9960-36db-4d55-ee7f-9088f900b02d"
   },
   "outputs": [
    {
     "name": "stdout",
     "output_type": "stream",
     "text": [
      "torch.Size([30, 30, 3, 3])\n"
     ]
    },
    {
     "data": {
      "text/plain": [
       "Parameter containing:\n",
       "tensor([[[[1., 1., 1.],\n",
       "          [1., 1., 1.],\n",
       "          [1., 1., 1.]],\n",
       "\n",
       "         [[1., 1., 1.],\n",
       "          [1., 1., 1.],\n",
       "          [1., 1., 1.]],\n",
       "\n",
       "         [[1., 1., 1.],\n",
       "          [1., 1., 1.],\n",
       "          [1., 1., 1.]],\n",
       "\n",
       "         ...,\n",
       "\n",
       "         [[0., 0., 0.],\n",
       "          [0., 0., 0.],\n",
       "          [0., 0., 0.]],\n",
       "\n",
       "         [[0., 0., 0.],\n",
       "          [0., 0., 0.],\n",
       "          [0., 0., 0.]],\n",
       "\n",
       "         [[0., 0., 0.],\n",
       "          [0., 0., 0.],\n",
       "          [0., 0., 0.]]],\n",
       "\n",
       "\n",
       "        [[[0., 0., 0.],\n",
       "          [0., 0., 0.],\n",
       "          [0., 0., 0.]],\n",
       "\n",
       "         [[1., 1., 1.],\n",
       "          [1., 1., 1.],\n",
       "          [1., 1., 1.]],\n",
       "\n",
       "         [[1., 1., 1.],\n",
       "          [1., 1., 1.],\n",
       "          [1., 1., 1.]],\n",
       "\n",
       "         ...,\n",
       "\n",
       "         [[0., 0., 0.],\n",
       "          [0., 0., 0.],\n",
       "          [0., 0., 0.]],\n",
       "\n",
       "         [[0., 0., 0.],\n",
       "          [0., 0., 0.],\n",
       "          [0., 0., 0.]],\n",
       "\n",
       "         [[0., 0., 0.],\n",
       "          [0., 0., 0.],\n",
       "          [0., 0., 0.]]],\n",
       "\n",
       "\n",
       "        [[[0., 0., 0.],\n",
       "          [0., 0., 0.],\n",
       "          [0., 0., 0.]],\n",
       "\n",
       "         [[0., 0., 0.],\n",
       "          [0., 0., 0.],\n",
       "          [0., 0., 0.]],\n",
       "\n",
       "         [[1., 1., 1.],\n",
       "          [1., 1., 1.],\n",
       "          [1., 1., 1.]],\n",
       "\n",
       "         ...,\n",
       "\n",
       "         [[0., 0., 0.],\n",
       "          [0., 0., 0.],\n",
       "          [0., 0., 0.]],\n",
       "\n",
       "         [[0., 0., 0.],\n",
       "          [0., 0., 0.],\n",
       "          [0., 0., 0.]],\n",
       "\n",
       "         [[0., 0., 0.],\n",
       "          [0., 0., 0.],\n",
       "          [0., 0., 0.]]],\n",
       "\n",
       "\n",
       "        ...,\n",
       "\n",
       "\n",
       "        [[[1., 1., 1.],\n",
       "          [1., 1., 1.],\n",
       "          [1., 1., 1.]],\n",
       "\n",
       "         [[0., 0., 0.],\n",
       "          [0., 0., 0.],\n",
       "          [0., 0., 0.]],\n",
       "\n",
       "         [[0., 0., 0.],\n",
       "          [0., 0., 0.],\n",
       "          [0., 0., 0.]],\n",
       "\n",
       "         ...,\n",
       "\n",
       "         [[1., 1., 1.],\n",
       "          [1., 1., 1.],\n",
       "          [1., 1., 1.]],\n",
       "\n",
       "         [[1., 1., 1.],\n",
       "          [1., 1., 1.],\n",
       "          [1., 1., 1.]],\n",
       "\n",
       "         [[1., 1., 1.],\n",
       "          [1., 1., 1.],\n",
       "          [1., 1., 1.]]],\n",
       "\n",
       "\n",
       "        [[[1., 1., 1.],\n",
       "          [1., 1., 1.],\n",
       "          [1., 1., 1.]],\n",
       "\n",
       "         [[1., 1., 1.],\n",
       "          [1., 1., 1.],\n",
       "          [1., 1., 1.]],\n",
       "\n",
       "         [[0., 0., 0.],\n",
       "          [0., 0., 0.],\n",
       "          [0., 0., 0.]],\n",
       "\n",
       "         ...,\n",
       "\n",
       "         [[0., 0., 0.],\n",
       "          [0., 0., 0.],\n",
       "          [0., 0., 0.]],\n",
       "\n",
       "         [[1., 1., 1.],\n",
       "          [1., 1., 1.],\n",
       "          [1., 1., 1.]],\n",
       "\n",
       "         [[1., 1., 1.],\n",
       "          [1., 1., 1.],\n",
       "          [1., 1., 1.]]],\n",
       "\n",
       "\n",
       "        [[[1., 1., 1.],\n",
       "          [1., 1., 1.],\n",
       "          [1., 1., 1.]],\n",
       "\n",
       "         [[1., 1., 1.],\n",
       "          [1., 1., 1.],\n",
       "          [1., 1., 1.]],\n",
       "\n",
       "         [[1., 1., 1.],\n",
       "          [1., 1., 1.],\n",
       "          [1., 1., 1.]],\n",
       "\n",
       "         ...,\n",
       "\n",
       "         [[0., 0., 0.],\n",
       "          [0., 0., 0.],\n",
       "          [0., 0., 0.]],\n",
       "\n",
       "         [[0., 0., 0.],\n",
       "          [0., 0., 0.],\n",
       "          [0., 0., 0.]],\n",
       "\n",
       "         [[1., 1., 1.],\n",
       "          [1., 1., 1.],\n",
       "          [1., 1., 1.]]]], device='cuda:0')"
      ]
     },
     "execution_count": 76,
     "metadata": {
      "tags": []
     },
     "output_type": "execute_result"
    }
   ],
   "source": [
    "print(net.conv4.mask.shape)\n",
    "net.conv4.mask"
   ]
  },
  {
   "cell_type": "markdown",
   "metadata": {
    "colab_type": "text",
    "id": "g0JLrxwKWB8P"
   },
   "source": [
    "### Basis for convolutional kernel"
   ]
  },
  {
   "cell_type": "markdown",
   "metadata": {
    "colab_type": "text",
    "id": "95qDPyW1lT3H"
   },
   "source": [
    "For each convolutional layer introduce a basis for convolutional kernel with the size 4 times lower than the number of filters, i.e.\n",
    "each filter is represented as a liner combination of basis filters. Note, that filter in this context is a 3D tensor of shape [number of incoming channels, 3, 3] (order might differ depending on your framework)."
   ]
  },
  {
   "cell_type": "code",
   "execution_count": 0,
   "metadata": {
    "colab": {},
    "colab_type": "code",
    "id": "hnZg0E0jPsCN"
   },
   "outputs": [],
   "source": [
    "class Conv2d_LC(nn.modules.conv._ConvNd):\n",
    "    def __init__(self, in_channels, out_channels, kernel_size, stride=1,\n",
    "                 padding=0, dilation=1, groups=1, bias=True):\n",
    "        kernel_size = _pair(kernel_size)\n",
    "        stride = _pair(stride)\n",
    "        padding = _pair(padding)\n",
    "        dilation = _pair(dilation)\n",
    "        super(Conv2d_LC, self).__init__(\n",
    "            in_channels, out_channels, kernel_size, stride, padding, dilation,\n",
    "            False, _pair(0), groups, bias)\n",
    "        self.basis = Parameter(torch.empty([1,out_channels//4,in_channels,*kernel_size],requires_grad=True))\n",
    "        self.coefficients = Parameter(torch.empty([out_channels,out_channels//4,1,1,1],requires_grad=True))\n",
    "        nn.init.xavier_uniform_(self.basis)\n",
    "        nn.init.xavier_uniform_(self.coefficients)\n",
    "        del self.weight\n",
    "        \n",
    "    def LC(self):\n",
    "        return torch.sum(self.coefficients*self.basis, dim=1).view(self.out_channels,self.in_channels,*self.kernel_size)\n",
    "        \n",
    "    def forward(self, input):\n",
    "        return F.conv2d(input, self.LC(), self.bias, self.stride,\n",
    "                        self.padding, self.dilation, self.groups)"
   ]
  },
  {
   "cell_type": "code",
   "execution_count": 0,
   "metadata": {
    "colab": {},
    "colab_type": "code",
    "id": "fQWmsTQHv4vb"
   },
   "outputs": [],
   "source": [
    "class Network_ConvLC(nn.Module):\n",
    "    def __init__(self, n):\n",
    "        super(Network_ConvLC, self).__init__()\n",
    "        self.conv1 = Conv2d_LC(3, n, 3)\n",
    "        self.conv2 = Conv2d_LC(n, n, 3)\n",
    "        self.pool1 = nn.MaxPool2d(2, 2)\n",
    "        self.conv3 = Conv2d_LC(n, int(1.5*n), 3)\n",
    "        self.conv4 = Conv2d_LC(int(1.5*n), int(1.5*n), 3)\n",
    "        self.pool2 = nn.MaxPool2d(2, 2)\n",
    "        self.conv5 = Conv2d_LC(int(1.5*n), 2*n, 3)\n",
    "        self.conv6 = Conv2d_LC(2*n, 2*n, 3)\n",
    "        self.dense = nn.Linear(2*n, 10)\n",
    "        self.nonlinearity = nn.LeakyReLU(negative_slope=0.01)\n",
    "        self.apply(init_weights)\n",
    "\n",
    "    def forward(self, x):\n",
    "        x = self.nonlinearity(self.conv1(x))\n",
    "        x = self.nonlinearity(self.conv2(x))\n",
    "        x = self.pool1(x)\n",
    "        x = self.nonlinearity(self.conv3(x))\n",
    "        x = self.nonlinearity(self.conv4(x))\n",
    "        x = self.pool2(x)\n",
    "        x = self.nonlinearity(self.conv5(x))\n",
    "        x = self.nonlinearity(self.conv6(x))\n",
    "        # global pooling\n",
    "        x = x.view(x.shape[0], x.shape[1], -1).mean(-1) # in this case H,W = 1, so it just reduces dims\n",
    "        x = self.dense(x) #logits\n",
    "        return x"
   ]
  },
  {
   "cell_type": "code",
   "execution_count": 0,
   "metadata": {
    "colab": {},
    "colab_type": "code",
    "id": "RerunyV6Ud1T"
   },
   "outputs": [],
   "source": [
    "net = Network_ConvLC(n)\n",
    "net.device = device\n",
    "net.to(net.device)\n",
    "opt = torch.optim.Adam(net.parameters(), lr=0.001, betas=(0.9, 0.999))\n",
    "criterion = nn.CrossEntropyLoss()"
   ]
  },
  {
   "cell_type": "code",
   "execution_count": 0,
   "metadata": {
    "colab": {
     "base_uri": "https://localhost:8080/",
     "height": 34
    },
    "colab_type": "code",
    "id": "1EmTSKtMXfLl",
    "outputId": "f88e84b2-d1c5-46d0-b692-987486bce76d"
   },
   "outputs": [
    {
     "name": "stdout",
     "output_type": "stream",
     "text": [
      "12495\n"
     ]
    }
   ],
   "source": [
    "pytorch_total_params = sum(p.numel() for p in net.parameters() if p.requires_grad)\n",
    "print(pytorch_total_params)"
   ]
  },
  {
   "cell_type": "code",
   "execution_count": 0,
   "metadata": {
    "colab": {
     "base_uri": "https://localhost:8080/",
     "height": 408
    },
    "colab_type": "code",
    "id": "-VTk8MLXUpGK",
    "outputId": "b472c41b-841e-4f69-c961-78d40af05e6f"
   },
   "outputs": [
    {
     "data": {
      "image/png": "[encoded data removed]",
      "text/plain": [
       "<matplotlib.figure.Figure at 0x7fbfe904ff60>"
      ]
     },
     "metadata": {
      "tags": []
     },
     "output_type": "display_data"
    },
    {
     "name": "stdout",
     "output_type": "stream",
     "text": [
      "Loss: 0.8877493004004161\n",
      "Accuracy: 0.688671875\n"
     ]
    }
   ],
   "source": [
    "net = train(net,opt,criterion,50,256,trainset)"
   ]
  },
  {
   "cell_type": "code",
   "execution_count": 0,
   "metadata": {
    "colab": {
     "base_uri": "https://localhost:8080/",
     "height": 34
    },
    "colab_type": "code",
    "id": "b6ERV5bFU9yd",
    "outputId": "a82ce92e-ebea-4a7a-fb96-bb4cb658fd6d"
   },
   "outputs": [
    {
     "name": "stdout",
     "output_type": "stream",
     "text": [
      "Accuracy on the test set: 0.6397\n"
     ]
    }
   ],
   "source": [
    "test(net,256,testset)"
   ]
  },
  {
   "cell_type": "markdown",
   "metadata": {
    "colab_type": "text",
    "id": "YlPUv9bgY8sp"
   },
   "source": [
    "### L1, L2 regularizations"
   ]
  },
  {
   "cell_type": "markdown",
   "metadata": {
    "colab_type": "text",
    "id": "3MQOqeJtXwsO"
   },
   "source": [
    "In the previous exercise introduce a l1 regularization for decomposition coefficients and l2 regularization for the basis."
   ]
  },
  {
   "cell_type": "code",
   "execution_count": 0,
   "metadata": {
    "colab": {},
    "colab_type": "code",
    "id": "DtyPOj_LXRtg"
   },
   "outputs": [],
   "source": [
    "def criterion(logits,labels):\n",
    "    loss = nn.CrossEntropyLoss()(logits,labels)\n",
    "    for m in net.modules():\n",
    "        if isinstance(m, Conv2d_LC):\n",
    "            loss += c2*(m.basis.norm()**2) + c1*m.coefficients.norm(p=1)\n",
    "    return loss"
   ]
  },
  {
   "cell_type": "code",
   "execution_count": 0,
   "metadata": {
    "colab": {},
    "colab_type": "code",
    "id": "W6wLKpopfx1g"
   },
   "outputs": [],
   "source": [
    "c1 = 5e-5\n",
    "c2 = 5e-5\n",
    "net = Network_ConvLC(n)\n",
    "net.device = device\n",
    "net.to(net.device)\n",
    "opt = torch.optim.Adam(net.parameters(), lr=0.001, betas=(0.9, 0.999))"
   ]
  },
  {
   "cell_type": "code",
   "execution_count": 19,
   "metadata": {
    "colab": {
     "base_uri": "https://localhost:8080/",
     "height": 408
    },
    "colab_type": "code",
    "id": "QWI5ISwxgBxr",
    "outputId": "e385b275-9acb-47b8-d43f-89ac62b718a2"
   },
   "outputs": [
    {
     "data": {
      "image/png": "[encoded data removed]",
      "text/plain": [
       "<matplotlib.figure.Figure at 0x7f7ab00a0240>"
      ]
     },
     "metadata": {
      "tags": []
     },
     "output_type": "display_data"
    },
    {
     "name": "stdout",
     "output_type": "stream",
     "text": [
      "Loss: 1.0745136757691702\n",
      "Accuracy: 0.626171875\n"
     ]
    }
   ],
   "source": [
    "net = train(net,opt,criterion,50,256,trainset)"
   ]
  },
  {
   "cell_type": "code",
   "execution_count": 20,
   "metadata": {
    "colab": {
     "base_uri": "https://localhost:8080/",
     "height": 34
    },
    "colab_type": "code",
    "id": "U4TRqoozkeUy",
    "outputId": "74e906f0-1e28-4c0b-8a65-ad10ac1d9938"
   },
   "outputs": [
    {
     "name": "stdout",
     "output_type": "stream",
     "text": [
      "Accuracy on the test set: 0.601\n"
     ]
    }
   ],
   "source": [
    "test(net,256,testset)"
   ]
  },
  {
   "cell_type": "markdown",
   "metadata": {
    "colab_type": "text",
    "id": "CvfuoeLYoGe4"
   },
   "source": [
    "### Progressive regularization"
   ]
  },
  {
   "cell_type": "markdown",
   "metadata": {
    "colab_type": "text",
    "id": "_sThyGi6oI1j"
   },
   "source": [
    "Implement a progressive regularization by introducing different regularization coefficients to different filters, giving higher penalty to the higher positions, i.e: sum(coefs[:, None, None, None] * W ** 2) where:\n",
    "\n",
    "- W - convolutional filter with dimensions [number of filters, number of incoming channels, width, height];\n",
    "- coefs - ascending arrays of regularization coefficients.\n",
    "\n",
    "Recommended options for regularization coefficients:\n",
    "\n",
    "- coefs = C_0 * (range(k) + 1)\n",
    "- coefs = C_0 * log(range(k) + 1)\n",
    "\n",
    "Make sure that the total regularization in the initial state is lower that log 10 by approximately an order of magnitude. Use an ordinary regularization for the dense layer."
   ]
  },
  {
   "cell_type": "code",
   "execution_count": 0,
   "metadata": {
    "colab": {},
    "colab_type": "code",
    "id": "HWR-LaBHm_6k"
   },
   "outputs": [],
   "source": [
    "def criterion(logits,labels):\n",
    "    loss = nn.CrossEntropyLoss()(logits,labels)\n",
    "    for m in net.modules():\n",
    "        if isinstance(m, nn.Conv2d):\n",
    "            coeffs = C0 * torch.log(torch.arange(0,m.out_channels,dtype=torch.float32) + 1).view(m.out_channels,1,1,1)\n",
    "            coeffs = coeffs.to(net.device)\n",
    "            loss += (coeffs*m.weight).norm()**2\n",
    "        if isinstance(m, nn.Linear):\n",
    "            loss += C1 * (m.weight).norm()**2\n",
    "    return loss"
   ]
  },
  {
   "cell_type": "code",
   "execution_count": 0,
   "metadata": {
    "colab": {},
    "colab_type": "code",
    "id": "ZahKTIrMoNBk"
   },
   "outputs": [],
   "source": [
    "net = Network(n)\n",
    "net.device = device\n",
    "net.to(net.device)\n",
    "opt = torch.optim.Adam(net.parameters(), lr=0.001, betas=(0.9, 0.999))\n",
    "C1 = 1e-3\n",
    "C0 = 1e-2"
   ]
  },
  {
   "cell_type": "code",
   "execution_count": 53,
   "metadata": {
    "colab": {
     "base_uri": "https://localhost:8080/",
     "height": 34
    },
    "colab_type": "code",
    "id": "v25XNNo8oO6o",
    "outputId": "242bbc6c-5d5c-424f-bd26-4d174f10b13d"
   },
   "outputs": [
    {
     "name": "stdout",
     "output_type": "stream",
     "text": [
      "Regularization in the initial state: 0.12831451\n"
     ]
    }
   ],
   "source": [
    "def check(net):\n",
    "    loss = 0.\n",
    "    for m in net.modules():\n",
    "        if isinstance(m, nn.Conv2d):\n",
    "            coeffs = C0 * torch.log(torch.arange(0,m.out_channels,dtype=torch.float32) + 1).view(m.out_channels,1,1,1)\n",
    "            coeffs = coeffs.to(net.device)\n",
    "            loss += (coeffs*m.weight).norm()**2\n",
    "        if isinstance(m, nn.Linear):\n",
    "            loss += C1 * (m.weight).norm()**2\n",
    "    return loss\n",
    "\n",
    "print(\"Regularization in the initial state: \" + str(check(net).data.cpu().numpy()))"
   ]
  },
  {
   "cell_type": "code",
   "execution_count": 54,
   "metadata": {
    "colab": {
     "base_uri": "https://localhost:8080/",
     "height": 408
    },
    "colab_type": "code",
    "id": "UBMnzew0oRTR",
    "outputId": "5a9d2dc6-05ff-4877-eec2-39e128e2408f"
   },
   "outputs": [
    {
     "data": {
      "image/png": "[encoded data removed]",
      "text/plain": [
       "<matplotlib.figure.Figure at 0x7f7ab00a7b00>"
      ]
     },
     "metadata": {
      "tags": []
     },
     "output_type": "display_data"
    },
    {
     "name": "stdout",
     "output_type": "stream",
     "text": [
      "Loss: 1.00284499724706\n",
      "Accuracy: 0.6864908854166667\n"
     ]
    }
   ],
   "source": [
    "net = train(net,opt,criterion,50,1024,trainset)"
   ]
  },
  {
   "cell_type": "code",
   "execution_count": 55,
   "metadata": {
    "colab": {
     "base_uri": "https://localhost:8080/",
     "height": 34
    },
    "colab_type": "code",
    "id": "F7bGGcshsCJQ",
    "outputId": "37eb892a-e7d2-4bee-a174-b3e5d6f95b06"
   },
   "outputs": [
    {
     "name": "stdout",
     "output_type": "stream",
     "text": [
      "Accuracy on the test set: 0.6479\n"
     ]
    }
   ],
   "source": [
    "test(net,256,testset)"
   ]
  }
 ],
 "metadata": {
  "accelerator": "GPU",
  "colab": {
   "name": "Conv_nets.ipynb",
   "provenance": [],
   "version": "0.3.2"
  },
  "kernelspec": {
   "display_name": "Python 3",
   "language": "python",
   "name": "python3"
  },
  "language_info": {
   "codemirror_mode": {
    "name": "ipython",
    "version": 3
   },
   "file_extension": ".py",
   "mimetype": "text/x-python",
   "name": "python",
   "nbconvert_exporter": "python",
   "pygments_lexer": "ipython3",
   "version": "3.7.0"
  }
 },
 "nbformat": 4,
 "nbformat_minor": 1
}
